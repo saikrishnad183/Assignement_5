{
  "nbformat": 4,
  "nbformat_minor": 0,
  "metadata": {
    "colab": {
      "provenance": []
    },
    "kernelspec": {
      "name": "python3",
      "display_name": "Python 3"
    },
    "language_info": {
      "name": "python"
    }
  },
  "cells": [
    {
      "cell_type": "code",
      "execution_count": 2,
      "metadata": {
        "colab": {
          "base_uri": "https://localhost:8080/"
        },
        "id": "esmmzuEGMfnE",
        "outputId": "dc9bfb04-0cf8-4c8e-cda4-18fc07f8c558"
      },
      "outputs": [
        {
          "output_type": "stream",
          "name": "stdout",
          "text": [
            "              precision    recall  f1-score   support\n",
            "\n",
            "           1       0.19      0.44      0.27         9\n",
            "           2       0.33      0.16      0.21        19\n",
            "           3       0.33      0.20      0.25         5\n",
            "           5       0.00      0.00      0.00         2\n",
            "           6       0.67      1.00      0.80         2\n",
            "           7       1.00      1.00      1.00         6\n",
            "\n",
            "    accuracy                           0.37        43\n",
            "   macro avg       0.42      0.47      0.42        43\n",
            "weighted avg       0.40      0.37      0.36        43\n",
            "\n",
            "Naive Bayes accuracy is:  37.2093023255814\n"
          ]
        }
      ],
      "source": [
        "import pandas as pd\n",
        "from sklearn.model_selection import train_test_split\n",
        "from sklearn.naive_bayes import GaussianNB\n",
        "from sklearn.metrics import classification_report, accuracy_score\n",
        "\n",
        "#The glass data is loaded from the 'glass.csv' file into a DataFrame\n",
        "glass_data = pd.read_csv('/content/glass.csv')\n",
        "\n",
        "x_train = glass_data.drop(\"Type\", axis=1)\n",
        "y_train = glass_data['Type']\n",
        "\n",
        "\n",
        "x_train, x_test, y_train, y_test = train_test_split(x_train, y_train, test_size=0.2, random_state=0)\n",
        "\n",
        "# Train the model using the training sets\n",
        "gnb = GaussianNB()\n",
        "gnb.fit(x_train, y_train)\n",
        "\n",
        "\n",
        "y_pred = gnb.predict(x_test)\n",
        "# Classification report\n",
        "qual_report = classification_report(y_test, y_pred)\n",
        "print(qual_report)\n",
        "print(\"Naive Bayes accuracy is: \",  (accuracy_score(y_test, y_pred))*100)"
      ]
    },
    {
      "cell_type": "code",
      "source": [
        "import pandas as pd\n",
        "from sklearn.model_selection import train_test_split\n",
        "from sklearn.svm import SVC\n",
        "from sklearn.metrics import classification_report, accuracy_score\n",
        "\n",
        "\n",
        "glass_data = pd.read_csv(r'/content/glass.csv')\n",
        "\n",
        "x_train = glass_data.drop(\"Type\", axis=1)\n",
        "y_train = glass_data['Type']\n",
        "# splitting train and test data using train_test_split\n",
        "x_train, x_test, y_train, y_test = train_test_split(x_train, y_train, test_size=0.2, random_state=0)\n",
        "\n",
        "# Train the model using the training sets\n",
        "svc = SVC()\n",
        "svc.fit(x_train, y_train)\n",
        "y_pred = svc.predict(x_test)\n",
        "# Classification report\n",
        "qual_report = classification_report(y_test, y_pred, zero_division = 0)\n",
        "print(qual_report)\n",
        "print(\"SVM accuracy is: \", accuracy_score(y_test, y_pred)*100)"
      ],
      "metadata": {
        "colab": {
          "base_uri": "https://localhost:8080/"
        },
        "id": "4TIyxrmzNf9c",
        "outputId": "28b5c5d4-14f4-49df-f17c-a232e90178a3"
      },
      "execution_count": 3,
      "outputs": [
        {
          "output_type": "stream",
          "name": "stdout",
          "text": [
            "              precision    recall  f1-score   support\n",
            "\n",
            "           1       0.21      1.00      0.35         9\n",
            "           2       0.00      0.00      0.00        19\n",
            "           3       0.00      0.00      0.00         5\n",
            "           5       0.00      0.00      0.00         2\n",
            "           6       0.00      0.00      0.00         2\n",
            "           7       0.00      0.00      0.00         6\n",
            "\n",
            "    accuracy                           0.21        43\n",
            "   macro avg       0.03      0.17      0.06        43\n",
            "weighted avg       0.04      0.21      0.07        43\n",
            "\n",
            "SVM accuracy is:  20.930232558139537\n"
          ]
        }
      ]
    }
  ]
}